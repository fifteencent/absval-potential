{
 "cells": [
  {
   "cell_type": "markdown",
   "metadata": {},
   "source": [
    "### Numerical analysis of the lowest energy eigenvalue for an absolute potential well\n",
    "#### Table of Contents\n",
    "1. [Introduction](#Introduction)\n",
    "2. [Interactive plotting!](#iplot)\n",
    "3. [Error visualization](#evis)\n",
    "4. [Discussion](#Discussion)\n",
    "\n",
    "#### Introduction\n",
    "Consider the following potential well: \n",
    "$$ V(x)=a|x|.$$\n",
    "We can plot this with $a=1$ to get a feel for what it looks like (after imports):"
   ]
  },
  {
   "cell_type": "code",
   "execution_count": 1,
   "metadata": {},
   "outputs": [],
   "source": [
    "%matplotlib widget\n",
    "%load_ext autoreload\n",
    "%autoreload 2\n",
    "import numpy as np\n",
    "import matplotlib.pyplot as plt"
   ]
  },
  {
   "cell_type": "code",
   "execution_count": 2,
   "metadata": {},
   "outputs": [
    {
     "data": {
      "application/vnd.jupyter.widget-view+json": {
       "model_id": "96c2e216d69c4897b7a11ecbd4cc6e94",
       "version_major": 2,
       "version_minor": 0
      },
      "text/plain": [
       "Canvas(toolbar=Toolbar(toolitems=[('Home', 'Reset original view', 'home', 'home'), ('Back', 'Back to previous …"
      ]
     },
     "metadata": {},
     "output_type": "display_data"
    }
   ],
   "source": [
    "plt.close('all')\n",
    "fig, ax = plt.subplots()\n",
    "x = np.linspace(-1, 1, 100)\n",
    "line, = plt.plot(x,np.fabs(x), lw=2)\n",
    "ax.set_xlabel('x')\n",
    "ax.set_ylabel('V')\n",
    "plt.title(\"V(x)=|x|\")\n",
    "plt.show()"
   ]
  },
  {
   "cell_type": "markdown",
   "metadata": {},
   "source": [
    "Now, recall the one-dimensional time-independent Schrödinger equation:\n",
    "$$ -\\frac{\\hslash^2}{2m}\\frac{d^2\\psi}{dx^2} +V(x)\\psi(x)=E\\psi(x).$$\n",
    "Then, rearranging and plugging in $V(x)=a|x|$, we have:\n",
    "$$\\frac{{d^2 \\psi }}{{dx^2 }} + \\frac{{2m}}{{\\hslash ^2 }}(E - a|x|)\\psi  = 0.$$\n",
    "Now, defining $E = \\varepsilon (\\hslash ^2 a^2 /m)^{1/3} $ and $ x = z(\\hslash ^2 /ma)^{1/3} $ where $\\varepsilon$ and $z$ are dimensionless constants, we can substitute and rearrange to find:\n",
    "$$\\begin{equation}\n",
    "\\frac{{d^2 \\psi }}{{dz^2 }} + 2(\\varepsilon  - |z|)\\psi  = 0.\n",
    "\\end{equation}$$\n",
    "\n",
    "This differential equation is a little hairy to solve analytically, but we can get a feel for a solution using some numerical analysis!\n",
    "To do this, we convert our differential equation into a recurrence relation, and evaluate at small steps with given initial conditions. We define a step size $\\delta$, and determine a $\\psi_i$ corresponding to $z=i\\delta$ for each $i$ in some reasonable range. Then, using the Taylor series expansions, we have:\n",
    "$$\\begin{align*}\n",
    "\\psi(z+\\delta)&=\\psi(z)+\\left(\\frac{d\\psi}{dz}\\right)_z\\delta+\\frac{1}{2}\\left(\\frac{d^2\\psi}{dz^2}\\right)_z\\delta^2+\\ldots\\\\{\\rm and}\\quad\n",
    "\\psi(z-\\delta)&=\\psi(z)-\\left(\\frac{d\\psi}{dz}\\right)_z\\delta+\\frac{1}{2}\\left(\\frac{d^2\\psi}{dz^2}\\right)_z\\delta^2+\\ldots.\n",
    "\\end{align*}$$\n",
    "Substituting the second equation into the first, we obtain:\n",
    "$$\\psi(z+\\delta)=-\\psi(z-\\delta)+2\\psi(z)+\\left(\\frac{d^2\\psi}{dz^2}\\right)_z\\delta^2+\\ldots.$$\n",
    "Then, discarding the higher order terms (which get smaller polynomially) and substituting the second derivative using eq (1), we arrive at our recurrence,\n",
    "$$\\psi_{i+1}=-\\psi_{i-1}+2\\psi_j-2\\delta^2\\left(\\epsilon-|i\\delta|\\right)\\psi_i.$$\n",
    "\n",
    "Now, since our lowest energy eigenfunction is even (as required by the parity of $V(x)$) and has no nodes, we know that $d\\psi_0/dx=0$ at $z=0$. We can also let $\\psi(0)=A$ where $A$ is some normalization constant. Then, we can write a function that determines the value of $\\psi_i$:"
   ]
  },
  {
   "cell_type": "code",
   "execution_count": 3,
   "metadata": {},
   "outputs": [],
   "source": [
    "def waveN(waveNm1, waveNm2, δ, ε, zNm2):\n",
    "    return -waveNm1 + (2 * waveNm2) - (2 * δ**2 * (ε-np.fabs(zNm2)) * waveNm2)"
   ]
  },
  {
   "cell_type": "markdown",
   "metadata": {},
   "source": [
    "Now, we also write a function that plots the wavefunction on an interval [0, 4] for some given $\\varepsilon$ and number of steps $s$ (where $\\delta=\\varepsilon/2^s$). \n",
    "\n",
    "In addition, we can also calculate the wavefunction's \"error\" – defining $\\psi_{\\rm min}$ to be the minimum value achieved by the wavefunction and $\\psi_{\\rm end}$ to be the value determined for $\\psi$ when $z=4$, we have:\n",
    "$${\\rm error}=\\begin{cases}\n",
    "0 & 0 < \\psi_{\\rm end} < \\psi_{\\rm min}\\\\\n",
    "\\psi_{\\rm end} - \\psi_{\\rm min} & \\psi_{\\rm end} > \\psi_{\\rm min}\\\\\n",
    "|\\psi_{\\rm end}| & \\psi_{\\rm end} < 0\n",
    "\\end{cases}.$$\n",
    "\n",
    "Together, we implement this function as `verifyε` (and define some constants that will be useful later)."
   ]
  },
  {
   "cell_type": "code",
   "execution_count": 4,
   "metadata": {},
   "outputs": [],
   "source": [
    "def verifyε(steps, ε, wave0=0.7005546694136285, complete=True):\n",
    "    \"\"\"Plot the wavefunction numerically using ε and steps.\n",
    "\n",
    "    Arguments:\n",
    "    steps       number of steps, log 2, taken from z=0 to z=ε (i.e. where E0=a|x|).\n",
    "                    i.e. δ = ε * steps^(-2)\n",
    "    ε           epsilon, the dimensionless parameter related to energy.\n",
    "    wave0       ψ(0), determining the \"amplitude\" of the wave.\n",
    "                    the given value normalizes the solution corresponding to the correct ε,\n",
    "                    calculated with the help of Mathematica and Wikipedia\n",
    "    complete    True: returns all values of ψ are desired regardless of correctness.\n",
    "                False: Truncates ψ when error is detected. Calculates \"valid\" with remaining number of steps.\n",
    "                    Plotting with complete=False is not as clear, but saves a lot of time.\n",
    "    \n",
    "    Return:\n",
    "    z       An array of the z-values at which the wavefunction was evaluated. \n",
    "                A regular partition of 0 to 4 with step size δ (given above)\n",
    "    waveQ   An array of the values of the wavefunction corresponding to the given ε,\n",
    "                calculated numerically with the given δ.\n",
    "    valid   A positive score denoting how \"correct\" ε is (given δ), with 0 being \"correct\"\n",
    "    \"\"\"\n",
    "    # E0 = ε, let hbar^2•a^2/m = 1\n",
    "    # E0 = a|x| when z = ε\n",
    "\n",
    "    steps = 2 ** steps\n",
    "    δ = ε / steps\n",
    "    z = np.arange(0, 4, δ)\n",
    "    wave1 = wave0 - δ**2 * ε * wave0\n",
    "    waveQ = np.zeros((len(z)))\n",
    "    waveQ[0], waveQ[1] = wave0, wave1\n",
    "    valid = 0\n",
    "    for i in range(2, len(z)):\n",
    "        waveQ[i] = waveN(*waveQ[i-2:i], δ, ε, z[i-2]) \n",
    "        valid = 0 if (waveQ[i-2] - waveQ[i] >= 0 and waveQ[i] >= 0) \\\n",
    "                else (1 if not complete else max(waveQ[i]-np.amin(waveQ), -waveQ[i]))\n",
    "        if not complete and valid != 0:\n",
    "            valid = len(z)- i\n",
    "            break\n",
    "\n",
    "    # calculate the \"error\" in the wave function \n",
    "    # i.e. how negative the tail is, or how much the tail is greater than its minimum value\n",
    "    return z, waveQ, valid\n"
   ]
  },
  {
   "cell_type": "markdown",
   "metadata": {},
   "source": [
    "#### Interactive plotting!\n",
    "Now, we can play around with the wavefunctions generated by some given steps and ε with an interactive plot (I won't go into the details)! Manipulate the sliders to determine ε and the number of steps, and if you'd like to change the range of the sliders, type in the textboxes. A valid solution will show up as a green curve whereas an invalid solution will display as red."
   ]
  },
  {
   "cell_type": "code",
   "execution_count": 5,
   "metadata": {},
   "outputs": [
    {
     "data": {
      "application/vnd.jupyter.widget-view+json": {
       "model_id": "3db3b77d6371472aa6bfb2764cb1aef2",
       "version_major": 2,
       "version_minor": 0
      },
      "text/plain": [
       "Canvas(toolbar=Toolbar(toolitems=[('Home', 'Reset original view', 'home', 'home'), ('Back', 'Back to previous …"
      ]
     },
     "metadata": {},
     "output_type": "display_data"
    }
   ],
   "source": [
    "import matplotlib.colors as colors\n",
    "import matplotlib.patches as mpatches\n",
    "from matplotlib.widgets import Slider, Button, TextBox\n",
    "\n",
    "plt.close(\"all\")\n",
    "# Plots wavefunction for corresponding ε and δ values (controlled with sliders).\n",
    "# Red and green correspond to invalid and valid solutions respectively.\n",
    "\n",
    "εinit = 0.80857 # actual is ±0.00001\n",
    "εmin = 0.75\n",
    "εmax = 0.9\n",
    "\n",
    "stepinit = 6\n",
    "stepmin = 5\n",
    "stepmax = 15\n",
    "\n",
    "# Create the figure and the line that we will manipulate\n",
    "fig, ax = plt.subplots()\n",
    "oldx, oldy, valid = verifyε(stepinit, εinit)\n",
    "color = \"green\" if valid == 0 else \"red\"\n",
    "line, = plt.plot(oldx, oldy, lw=2, color=color)\n",
    "ax.set_xlabel('z')\n",
    "ax.set_ylabel('ψ')\n",
    "plt.title(\"ψ(x)\")\n",
    "ax.set_ylim([-0.05, 0.8])\n",
    "plt.xticks(np.arange(0, 4.1, 1))\n",
    "plt.yticks(np.arange(0, 0.81, 0.2))\n",
    "\n",
    "# adjust the main plot to make room for the sliders\n",
    "plt.subplots_adjust(left=0.3, bottom=0.3)\n",
    "\n",
    "\n",
    "# Make a horizontal slider to control ε (min gets adjusted right before rendering)\n",
    "axstep = plt.axes([0.3, 0.175, 0.58, 0.03])\n",
    "step_slider = Slider(\n",
    "    ax=axstep,\n",
    "    label=\"Steps (log2, for δ)\",\n",
    "    valmin=0,\n",
    "    valmax=stepmax,\n",
    "    valinit=stepinit,\n",
    ")\n",
    "\n",
    "# Make a vertically oriented slider to control δ (min gets adjusted right before rendering)\n",
    "axε = plt.axes([0.175, 0.3, 0.0225, 0.58])\n",
    "ε_slider = Slider(\n",
    "    ax=axε,\n",
    "    label='ε',\n",
    "    valmin=0,\n",
    "    valmax=εmax,\n",
    "    valinit=εinit,\n",
    "    orientation=\"vertical\"\n",
    ")\n",
    "\n",
    "# The function to be called anytime a slider's value changes\n",
    "def update(val):\n",
    "    newx, newy, valid = verifyε(step_slider.val, ε_slider.val)\n",
    "    line.set_xdata(newx)\n",
    "    line.set_ydata(newy)\n",
    "    line.set_color(\"green\" if valid == 0 else \"red\")\n",
    "    fig.canvas.draw_idle()\n",
    "\n",
    "# register the update function with each slider\n",
    "step_slider.on_changed(update)\n",
    "ε_slider.on_changed(update)\n",
    "\n",
    "\n",
    "ax_ε_min = plt.axes([0.05, 0.3, 0.1, 0.04])\n",
    "εmin_box = TextBox(ax_ε_min, 'ε Min', initial=εmin)\n",
    "\n",
    "# reposition label\n",
    "l_εmin = εmin_box.ax.get_children()[1]\n",
    "l_εmin.set_y(1)\n",
    "l_εmin.set_verticalalignment('bottom')\n",
    "l_εmin.set_horizontalalignment('left')\n",
    "\n",
    "ax_ε_max = plt.axes([0.05, 0.8, 0.1, 0.04])\n",
    "εmax_box = TextBox(ax_ε_max, 'ε Max', initial=εmax)\n",
    "\n",
    "# reposition label\n",
    "l_εmax = εmax_box.ax.get_children()[1]\n",
    "l_εmax.set_y(1)\n",
    "l_εmax.set_verticalalignment('bottom')\n",
    "l_εmax.set_horizontalalignment('left')\n",
    "\n",
    "ax_step_min = plt.axes([0.3, 0.1, 0.15, 0.04])\n",
    "smin_box = TextBox(ax_step_min, 'Step Min', initial=stepmin)\n",
    "\n",
    "ax_step_max = plt.axes([0.75, 0.1, 0.15, 0.04])\n",
    "smax_box = TextBox(ax_step_max, 'Step Max', initial=stepmax)\n",
    "\n",
    "def update_slider(text, case):\n",
    "    step = \"s\" == case[0]\n",
    "    try:\n",
    "        val = float(text)\n",
    "        slider = step_slider if step else ε_slider\n",
    "        if \"min\" in case and 0 < val < slider.valmax:\n",
    "            slider.valmin = val\n",
    "            if step:\n",
    "                slider.ax.set_xlim(val, None)\n",
    "            else:\n",
    "                slider.ax.set_ylim(val, None)\n",
    "            if val > slider.val:\n",
    "                slider.val=val\n",
    "                update(val)\n",
    "        elif \"max\" in case and val > slider.valmin:\n",
    "            slider.valmax = val\n",
    "            if step:\n",
    "                slider.ax.set_xlim(None, val)\n",
    "            else:\n",
    "                slider.ax.set_ylim(None, val)\n",
    "            if val < slider.val:\n",
    "                slider.val=val\n",
    "                update(val)\n",
    "        fig.canvas.draw_idle()\n",
    "    except:\n",
    "        textbox = smin_box if step else εmin_box\n",
    "        if \"min\" in case:\n",
    "            textbox.set_val(slider.valmin)\n",
    "        else:\n",
    "            textbox.set_val(slider.valmax)\n",
    "        pass\n",
    "\n",
    "smin_box.on_submit(lambda text: update_slider(text, \"smin\"))\n",
    "smax_box.on_submit(lambda text: update_slider(text, \"smax\"))\n",
    "εmin_box.on_submit(lambda text: update_slider(text, \"εmin\"))\n",
    "εmax_box.on_submit(lambda text: update_slider(text, \"εmax\"))\n",
    "update_slider(εmin, \"εmin\")\n",
    "update_slider(stepmin, \"smin\")\n",
    "\n",
    "\n",
    "# Create a `matplotlib.widgets.Button` to reset the sliders to initial values.\n",
    "resetax = plt.axes([0.8, 0.025, 0.1, 0.04])\n",
    "button = Button(resetax, 'Reset', hovercolor='0.975')\n",
    "\n",
    "def reset(event):\n",
    "    step_slider.reset()\n",
    "    ε_slider.reset()\n",
    "    smin_box.set_val(stepmin)\n",
    "    smax_box.set_val(stepmax)\n",
    "    εmin_box.set_val(εmin)\n",
    "    εmax_box.set_val(εmax)\n",
    "    update_slider(εmin, \"εmin\")\n",
    "    update_slider(stepmin, \"smin\")\n",
    "    update_slider(εmax, \"εmax\")\n",
    "    update_slider(stepmax, \"smax\")\n",
    "\n",
    "button.on_clicked(reset)\n",
    "\n",
    "plt.show()\n"
   ]
  },
  {
   "cell_type": "markdown",
   "metadata": {},
   "source": [
    "#### Error visualization\n",
    "We can observe two things from the interactive plot:\n",
    "1. For steps < 13, a lower step count corresponds to an ε neighborhood containing smaller values of ε. Increasing `steps` also shifts up the window for valid values of ε.\n",
    "2. It seems that around ε = [0.80856, 0.80858] and for steps > 14, our solution starts converging. No matter how much we increase the number of steps, the valid valud for ε doesn't change by much, if at all.\n",
    "\n",
    "Here, it might be helpful to visualize perhaps a plot of error for different values for \"steps\" and ε. Let's first focus on the range where it seems to converge: steps = [12, 15] and ε = [0.8085, 0.80865]. We first define a function `getErrors` which runs `verifyε` for a given range of steps and ε's. "
   ]
  },
  {
   "cell_type": "code",
   "execution_count": 6,
   "metadata": {},
   "outputs": [],
   "source": [
    "def getErrors(filename, εtol, steptol, **argc):\n",
    "    try: \n",
    "        errors = np.loadtxt(filename)\n",
    "    except:\n",
    "        errors = np.zeros((len(εtol), len(steptol)))#I was actually not dumb, wow what a miracle.\n",
    "        for nε, ε in enumerate(εtol):\n",
    "            print(nε, \"/\", len(εtol))\n",
    "            for nstep, step in enumerate(steptol):\n",
    "                err = verifyε(step, ε, **argc)[-1]\n",
    "                errors[nε,nstep] = err\n",
    "        np.savetxt(filename, errors)\n",
    "    return errors"
   ]
  },
  {
   "cell_type": "markdown",
   "metadata": {},
   "source": [
    "Then, we can visualize these errors in a small plot:"
   ]
  },
  {
   "cell_type": "code",
   "execution_count": 9,
   "metadata": {},
   "outputs": [
    {
     "data": {
      "application/vnd.jupyter.widget-view+json": {
       "model_id": "d9024e8cfe854fdf9e3a8912e7e9f3bd",
       "version_major": 2,
       "version_minor": 0
      },
      "text/plain": [
       "Canvas(toolbar=Toolbar(toolitems=[('Home', 'Reset original view', 'home', 'home'), ('Back', 'Back to previous …"
      ]
     },
     "metadata": {},
     "output_type": "display_data"
    }
   ],
   "source": [
    "# Heatmap for the \"error\" in the wave function (calculation in line 22 above)\n",
    "# with respect to various values of ε and δ (close to the actual value of ε)\n",
    "plt.close(\"all\")\n",
    "\n",
    "εmin = 0.8085\n",
    "εmax = 0.80865\n",
    "\n",
    "stepmin = 12\n",
    "stepmax = 15\n",
    "\n",
    "tries = 10\n",
    "filename = str(tries)+str(tries)+\".txt\"\n",
    "εtol = np.linspace(εmin,εmax,tries)\n",
    "steptol = np.linspace(stepmin,stepmax,tries)\n",
    "errors = getErrors(filename, εtol, steptol)\n",
    "\n",
    "extent =[steptol[0],steptol[-1],εtol[0],εtol[-1]]\n",
    "fig, ax = plt.subplots(figsize=(8,8))\n",
    "im = ax.imshow(errors, \\\n",
    "    origin='lower',interpolation='none', extent=extent, aspect=\"auto\")\n",
    "fig.colorbar(im,shrink=0.8)\n",
    "ax.set_xlabel(\"Number of steps (log 2)\")\n",
    "ax.set_ylabel(\"ε value\")\n",
    "\n",
    "plt.show()"
   ]
  },
  {
   "cell_type": "markdown",
   "metadata": {},
   "source": [
    "The correlation is as expected! However, it does still seem to be increasing. To visualize whether the value of ε converges, we can make the same plot but on a larger range of steps and ε and look for an asymptote!"
   ]
  },
  {
   "cell_type": "code",
   "execution_count": 10,
   "metadata": {},
   "outputs": [
    {
     "data": {
      "application/vnd.jupyter.widget-view+json": {
       "model_id": "c99d52fc10454ddf8e3ca513e53f8ca1",
       "version_major": 2,
       "version_minor": 0
      },
      "text/plain": [
       "Canvas(toolbar=Toolbar(toolitems=[('Home', 'Reset original view', 'home', 'home'), ('Back', 'Back to previous …"
      ]
     },
     "metadata": {},
     "output_type": "display_data"
    }
   ],
   "source": [
    "# Heatmap for the \"error\" in the wave function (calculation in line 22 above)\n",
    "# with respect to a larger range of values of ε and δ (than above)\n",
    "plt.close(\"all\")\n",
    "tries = 100\n",
    "complete=True\n",
    "filename = \"big\"+(\"\" if complete else \"n\")+str(tries)+str(tries)+\".txt\"\n",
    "εtol = np.linspace(0.5,0.9,tries)\n",
    "steptol = np.linspace(2,15,tries)\n",
    "errors = getErrors(filename, εtol, steptol)\n",
    "\n",
    "extent =[steptol[0],steptol[-1],εtol[0],εtol[-1]]\n",
    "fig, ax = plt.subplots(figsize=(8,8))\n",
    "\n",
    "im = ax.imshow(errors, \\\n",
    "    origin='lower',interpolation='none', extent=extent, aspect=\"auto\", cmap=plt.get_cmap(\"plasma\"), norm=colors.PowerNorm(0.6))\n",
    "fig.colorbar(im,shrink=0.8)\n",
    "ax.set_xlabel(\"Number of steps (log 2)\")\n",
    "ax.set_ylabel(\"ε value\")\n",
    "\n",
    "# to show region in more zoomed in plot (2nd if statement)\n",
    "rect=mpatches.Rectangle((12, εmin),3,εmax-εmin, \n",
    "                    fill=False,\n",
    "                    color=\"white\",\n",
    "                    linewidth=1)\n",
    "                    #facecolor=\"red\")\n",
    "plt.gca().add_patch(rect)\n",
    "\n",
    "plt.show()\n"
   ]
  },
  {
   "cell_type": "markdown",
   "metadata": {},
   "source": [
    "It looks like there is an asymptote! And the relationship we determined earlier for steps < 13 (that the ε window shifts for greater steps) also seems to hold!"
   ]
  },
  {
   "cell_type": "markdown",
   "metadata": {},
   "source": [
    "#### Discussion\n",
    "\n",
    "Though we solved it here numerically, the time-independent Schrödinger equation corresponding to our given potential function has analytical solutions: Airy functions! A [well written overview](https://mazziotti.uchicago.edu/journal/jain_v.pdf) from Varun Jain. It was his analysis of the ground-state "
   ]
  }
 ],
 "metadata": {
  "kernelspec": {
   "display_name": "Python 3",
   "language": "python",
   "name": "python3"
  },
  "language_info": {
   "codemirror_mode": {
    "name": "ipython",
    "version": 3
   },
   "file_extension": ".py",
   "mimetype": "text/x-python",
   "name": "python",
   "nbconvert_exporter": "python",
   "pygments_lexer": "ipython3",
   "version": "3.9.7"
  }
 },
 "nbformat": 4,
 "nbformat_minor": 4
}
